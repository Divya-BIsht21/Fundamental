# **Title of Project**
Iris Flower Classification
-------------
## **Objective**
based on features using classification model used to classify iris flowers into different species
## **Data Source**
The dataset is sourced from skleran's matplotlib ' bulit in datasets
## **Import Library**
import pandas as pd
import numpy as np
import matplotlib.pyplot as plt
import seaborn as sns
from sklearn.datasets import load_iris
from sklearn.model_selection import train_test_split
from sklearn.linear_model import LogisticRegression
from sklearn.metrics import accuracy_score, confusion_matrix, classification_report
## **Import Data**
iris = load_iris()
data = pd.DataFrame(data=iris.data, columns=iris.feature_names)
data['species'] = iris.target
## **Describe Data**
print("Data Info:")
print(data.info())
print("\nData Description:")
print(data.describe())
print("\nFirst Few Rows:")
print(data.head())
print(data.info())
print(data.describe())

## **Data Visualization**
#visulaizing pairplot of the features
sns.pairplot(data, hue='species', palette='viridis')
plt.show()
## **Data Preprocessing**
#encode target varibale species
X = data.drop('species', axis=1)
y = data['species']
## **Define Target Variable (y) and Feature Variables (X)**
X = data.drop('species', axis=1)
y = data['species']
## **Train Test Split**
X_train, X_test, y_train, y_test = train_test_split(X, y, test_size=0.2, random_state=42)
## **Modeling**
#Using Logistic Regression for classification
model = LogisticRegression(max_iter=200)
model.fit(X_train, y_train)
## **Model Evaluation**
# Predicting on the test set
y_pred = model.predict(X_test)
print("\nAccuracy Score:")
print(accuracy_score(y_test, y_pred))

print("\nConfusion Matrix:")
print(confusion_matrix(y_test, y_pred))

print("\nClassification Report:")
print(classification_report(y_test, y_pred))
## **Prediction**
# Making predictions on new data (example: [5.2, 3.7, 1.8, 0.8])
new_data = pd.DataFrame([[5.2, 3.7, 1.8, 0.8]], columns=iris.feature_names)
prediction = model.predict(new_data)
print("\nPrediction for new data [5.2, 3.7, 1.8, 0.8]:")
print(iris.target_names[prediction][0])
## **Explaination**
this logistic regression model performed well with an accuracy of 89%. The confusion matrix and classification report provide insights into the model's performance on each class. The model successfully classifies new instances into differnt iris species based on the provided features
